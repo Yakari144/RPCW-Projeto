{
 "cells": [
  {
   "cell_type": "code",
   "execution_count": 84,
   "metadata": {},
   "outputs": [],
   "source": [
    "# script de python para tratar o dataset removendo colunas e renomeando colunas\n",
    "import pandas as pd"
   ]
  },
  {
   "cell_type": "code",
   "execution_count": 85,
   "metadata": {},
   "outputs": [],
   "source": [
    "# lendo o dataset\n",
    "df = pd.read_csv('dataset.csv', sep=';',low_memory=False,on_bad_lines='skip')"
   ]
  },
  {
   "cell_type": "code",
   "execution_count": 86,
   "metadata": {},
   "outputs": [],
   "source": [
    "# Eliminar todas as colunas (axis=1) que tem todos (how='all') os valores como missing values\n",
    "df = df.dropna(axis=1, how='all')"
   ]
  },
  {
   "cell_type": "code",
   "execution_count": 87,
   "metadata": {},
   "outputs": [],
   "source": [
    "cols_same_value = []\n",
    "\n",
    "# passar por todas as colunas e guardar o nome das que apenas tem 1 valor em todo\n",
    "for c in df.columns:\n",
    "    if len(df[c].unique()) == 1:\n",
    "        cols_same_value.append(c)\n",
    "\n",
    "# Retirar 'Repository' da lista\n",
    "cols_same_value.remove('Repository')\n",
    "\n",
    "# Apagar todas as colunas (axis=1) presentes em cols_same_value\n",
    "df = df.drop(cols_same_value, axis=1)"
   ]
  },
  {
   "cell_type": "code",
   "execution_count": 88,
   "metadata": {},
   "outputs": [
    {
     "name": "stdout",
     "output_type": "stream",
     "text": [
      "Index(['ID', 'CompleteUnitId', 'UnitId', 'UnitTitle', 'UnitDateInitial',\n",
      "       'Repository', 'ScopeContent', 'AccessRestrict', 'PhysLoc',\n",
      "       'PreviousLoc', 'LangMaterial', 'PhysTech', 'RelatedMaterial'],\n",
      "      dtype='object')\n"
     ]
    }
   ],
   "source": [
    "# removendo colunas\n",
    "sair=['DescriptionLevel',\n",
    "      'UnitTitleType',\n",
    "      'AllowUnitDatesInference',\n",
    "      'Dimensions',\n",
    "      'AllowExtentsInference',\n",
    "      'Note',\n",
    "      'Available',\n",
    "      'Creator',\n",
    "      'Created',\n",
    "      'Username',\n",
    "      'ProcessInfoDate',\n",
    "      'ProcessInfo',\n",
    "      'UnitDateFinal']\n",
    "\n",
    "# remover as colunas cujos nomes estão na lista sair do dataset\n",
    "df = df.drop(columns=df.columns[df.columns.isin(sair)])\n",
    "\n",
    "# verificando se as colunas foram removidas\n",
    "print(df.columns)\n"
   ]
  },
  {
   "cell_type": "code",
   "execution_count": 89,
   "metadata": {},
   "outputs": [
    {
     "name": "stdout",
     "output_type": "stream",
     "text": [
      "Index(['ID', 'ProcessoFull', 'IdProcesso', 'TituloProcesso', 'Data', 'Arquivo',\n",
      "       'ScopeContent', 'AcessoRestrito', 'LocalizacaoFisica',\n",
      "       'LocalizacaoAnterior', 'AnotacoesLinguagem', 'AnotacoesTecnicas',\n",
      "       'MaterialRelacionado'],\n",
      "      dtype='object')\n"
     ]
    }
   ],
   "source": [
    "# renomeando colunas\n",
    "rename = {\n",
    "    'CompleteUnitId' : 'ProcessoFull',\n",
    "    'UnitId' : 'IdProcesso',\n",
    "    'UnitTitle' : 'TituloProcesso',\n",
    "    'UnitDateInitial' : 'Data',\n",
    "    'Repository' : 'Arquivo',\n",
    "    'AccessRestrict' : 'AcessoRestrito',\n",
    "    'PhysLoc' : 'LocalizacaoFisica',\n",
    "    'PreviousLoc' : 'LocalizacaoAnterior',\n",
    "    'LangMaterial' : 'AnotacoesLinguagem',\n",
    "    'PhysTech' : 'AnotacoesTecnicas',\n",
    "    'RelatedMaterial' : 'MaterialRelacionado'\n",
    "}\n",
    "\n",
    "df = df.rename(columns=rename)\n",
    "\n",
    "# verificando se as colunas foram removidas\n",
    "print(df.columns)"
   ]
  },
  {
   "cell_type": "code",
   "execution_count": 90,
   "metadata": {},
   "outputs": [],
   "source": [
    "# salvando o dataset\n",
    "df.to_csv('d2.csv', index=False)"
   ]
  }
 ],
 "metadata": {
  "kernelspec": {
   "display_name": "Python 3 (ipykernel)",
   "language": "python",
   "name": "python3"
  },
  "language_info": {
   "codemirror_mode": {
    "name": "ipython",
    "version": 3
   },
   "file_extension": ".py",
   "mimetype": "text/x-python",
   "name": "python",
   "nbconvert_exporter": "python",
   "pygments_lexer": "ipython3",
   "version": "3.9.12"
  }
 },
 "nbformat": 4,
 "nbformat_minor": 2
}
